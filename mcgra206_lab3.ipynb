{
 "cells": [
  {
   "cell_type": "markdown",
   "metadata": {},
   "source": [
    "# Principles of Geocomputing: Lab 3B (40 points)"
   ]
  },
  {
   "cell_type": "markdown",
   "metadata": {},
   "source": [
    "## 1. Lab info and submission (3 points)"
   ]
  },
  {
   "cell_type": "code",
   "execution_count": 1,
   "metadata": {
    "collapsed": true
   },
   "outputs": [],
   "source": [
    "yourname = \"Anna J McGraw\"\n",
    "yourintid = \"mcgra206\"\n",
    "hoursspent = 4"
   ]
  },
  {
   "cell_type": "markdown",
   "metadata": {
    "collapsed": true
   },
   "source": [
    "This lab took me a little bit longer than expected. For the functions I defined that had input, I tried to put variables in\n",
    "like this: distanceInput(start, end). This caused them to fail. We hadn't really gone over them in class yet, so maybe I should have waited until after class Tueday to do the lab."
   ]
  },
  {
   "cell_type": "markdown",
   "metadata": {},
   "source": [
    "## 2. Conditionals (7 points)"
   ]
  },
  {
   "cell_type": "code",
   "execution_count": 8,
   "metadata": {
    "collapsed": true
   },
   "outputs": [],
   "source": [
    "# here x, y, and z are being defined as stated above in the directions\n",
    "x = 2\n",
    "y = 4\n",
    "z = 6"
   ]
  },
  {
   "cell_type": "code",
   "execution_count": 5,
   "metadata": {},
   "outputs": [
    {
     "name": "stdout",
     "output_type": "stream",
     "text": [
      "x is less than y\n"
     ]
    }
   ],
   "source": [
    "if x < y:\n",
    "    print (\"x is less than y\")\n",
    "else: \n",
    "    print (\"x is not less than y\")"
   ]
  },
  {
   "cell_type": "code",
   "execution_count": 9,
   "metadata": {},
   "outputs": [
    {
     "name": "stdout",
     "output_type": "stream",
     "text": [
      "x is not greater than y and z\n"
     ]
    }
   ],
   "source": [
    "if x > y and x > z:\n",
    "#this will print if x > y and x > z\n",
    "    print (\"x is greater than y and z\")\n",
    "else:\n",
    "    print(\"x is not greater than y and z\")"
   ]
  },
  {
   "cell_type": "code",
   "execution_count": 10,
   "metadata": {},
   "outputs": [
    {
     "name": "stdout",
     "output_type": "stream",
     "text": [
      "x is not greater than y and smaller than the number 10\n"
     ]
    }
   ],
   "source": [
    "if x > y and x < 10:\n",
    "#this will print if x is greater than y and less than 10. If it is only one of those things it will go on to the else statement\n",
    "    print (\"x is greater than y and smaller than the number 10\")\n",
    "else:\n",
    "    print(\"x is not greater than y and smaller than the number 10\")\n"
   ]
  },
  {
   "cell_type": "code",
   "execution_count": 11,
   "metadata": {},
   "outputs": [
    {
     "name": "stdout",
     "output_type": "stream",
     "text": [
      "z is equal to x + y\n"
     ]
    }
   ],
   "source": [
    "#this conditional is asking if when you add x and y together they equal z\n",
    "if x + y == z:\n",
    "    print (\"z is equal to x + y\")\n",
    "else:\n",
    "    print (\"z is not equal to x + y\")"
   ]
  },
  {
   "cell_type": "markdown",
   "metadata": {},
   "source": [
    "## 3. Add numbers from strings (5 points)"
   ]
  },
  {
   "cell_type": "code",
   "execution_count": 6,
   "metadata": {},
   "outputs": [
    {
     "name": "stdout",
     "output_type": "stream",
     "text": [
      "There were 205 total bushels produced in 2015 and 2016.\n"
     ]
    }
   ],
   "source": [
    "bushels2015 = \"95\"\n",
    "bushels2016 = \"110\"\n",
    "# this lines converts the type of bushels2015 and bushels2015 from strings to integers\n",
    "bushelstot = int(bushels2015) + int(bushels2016)\n",
    "# in this print statement I changed the type of bushelstot from a int to a string so that it would print correctly\n",
    "print (\"There were \" + str(bushelstot)+ \" total bushels produced in 2015 and 2016.\")"
   ]
  },
  {
   "cell_type": "code",
   "execution_count": 7,
   "metadata": {},
   "outputs": [
    {
     "name": "stdout",
     "output_type": "stream",
     "text": [
      "There were more bushels produced in 2016 than 2015 (110 in 2016, 95 in 2015).\n"
     ]
    }
   ],
   "source": [
    "#this conditional statement is checking if there were more bushels in 2015 or 2016\n",
    "if int(bushels2015) > int(bushels2016):\n",
    "    print (\"There were more bushels produced in 2015 than 2016 (\" + bushels2015 + \" in 2015, \" + bushels2016 + \" in 2016).\")\n",
    "else:\n",
    "    print (\"There were more bushels produced in 2016 than 2015 (\" + bushels2016 + \" in 2016, \" + bushels2015 + \" in 2015).\")"
   ]
  },
  {
   "cell_type": "markdown",
   "metadata": {},
   "source": [
    "\n",
    "## 4. Manhattan Distance (10 points)"
   ]
  },
  {
   "cell_type": "code",
   "execution_count": 49,
   "metadata": {
    "scrolled": false
   },
   "outputs": [
    {
     "name": "stdout",
     "output_type": "stream",
     "text": [
      "What is point A? Format it x, y: 0, 0\n",
      "What is point B? Format it x, y: 3, 4\n",
      " \n",
      "The distance between these two points is 7 units.\n"
     ]
    }
   ],
   "source": [
    "#here I am defining a function so that I could use manhattan distance again later if I wanted to, it takes 4 inputs\n",
    "#the A variables are the starting place and the B variables are the ending place\n",
    "def manhattenDistance(A1, A2, B1, B2):\n",
    "    # I used absolute value incase there is a negetive number\n",
    "    totalDistance = abs(A1 - B1) + abs(A2 - B2)\n",
    "    print (\" \")\n",
    "    print (\"The distance between these two points is \" + str(totalDistance) + \" units.\")\n",
    "\n",
    "# I did not convert the inputs to integers so that I could use the split function.\n",
    "def distanceInput():\n",
    "    begin = input(\"What is point A? Format it x, y: \")\n",
    "    finish = input(\"What is point B? Format it x, y: \")\n",
    "    #the split function breaks the inputs up so that four variables go into the manhattenDistance function, this reduces this to two inputs instead of four\n",
    "    begin1, begin2 = begin.split(\",\")\n",
    "    finish1, finish2 = finish.split(\",\")\n",
    "    #this saves all the variables so I can use them again, and turns them into integers\n",
    "    return int(begin1), int(begin2), int(finish1), int(finish2)\n",
    "\n",
    "# here I want to use all the variables that were returned with the distanceInput option\n",
    "start1, start2, end1, end2 = distanceInput()\n",
    "# this inputs the returned values into the manhattenDistance equation\n",
    "manhattenDistance(start1, start2, end1, end2)\n",
    "\n"
   ]
  },
  {
   "cell_type": "markdown",
   "metadata": {},
   "source": [
    "## 5. Euclidean Distance (15 points)\n"
   ]
  },
  {
   "cell_type": "code",
   "execution_count": 50,
   "metadata": {},
   "outputs": [
    {
     "name": "stdout",
     "output_type": "stream",
     "text": [
      "What is point A? Format it x, y: 0, 0\n",
      "What is point B? Format it x, y: 3, 4\n",
      "\n",
      "The distance between these two points is 5.0 units.\n"
     ]
    }
   ],
   "source": [
    "#this is a function for euclidean distance\n",
    "def eucDistance (x1, y1, x2, y2):\n",
    "    dist = ((x1 - x2)**2 + (y1 - y2)**2)**.5\n",
    "    return dist\n",
    "\n",
    "#this is recalling the distanceInput function I made in the manhattanDistance question, the variables on the left will be defined by this function\n",
    "start1, start2, end1, end2 = distanceInput()\n",
    "#the variable distance is the value that is returned from the eucDistance function\n",
    "distance = eucDistance(start1, start2, end1, end2)\n",
    "\n",
    "print (\"\")\n",
    "print(\"The distance between these two points is \" + str(distance) + \" units.\")"
   ]
  },
  {
   "cell_type": "code",
   "execution_count": 51,
   "metadata": {},
   "outputs": [
    {
     "name": "stdout",
     "output_type": "stream",
     "text": [
      "The distance between Minneapolis and Anchorage is the longest.\n",
      "\n",
      "The distance between Minneapolis and Los Angeles is the shortest.\n"
     ]
    }
   ],
   "source": [
    "#these define two variables at once \n",
    "MSPX, MSPY = 44.9778, -93.2650 #minneapolis, mn\n",
    "AKX, AKY = 61.2181, -149.9003 #anchorage, ak\n",
    "LAX, LAY= 34.0522, -118.2437 #los angeles, ca\n",
    "\n",
    "MSP_AK = eucDistance(MSPX, MSPY, AKX, AKY) #euclidean distance between Minneapolis and Anchorage will be stored in the variable MSP_AK\n",
    "MSP_LA = eucDistance(MSPX, MSPY, LAX, LAY) #between Minneapolis and Los Angeles\n",
    "LA_AK = eucDistance(LAX, LAY, AKX, AKY) #between Los Angeles and Anchorage\n",
    "\n",
    "#here I made variables so I didn't have to retype these things\n",
    "statementMSP_AK = \"The distance between Minneapolis and Anchorage is the\"\n",
    "statementMSP_LA =  \"The distance between Minneapolis and Los Angeles is the\"\n",
    "statementLA_AK = \"The distance between Los Angeles and Anchorage is the\"\n",
    "\n",
    "#these if statements look for the longest distance between the three cities, by seeing if the euclidean distance of one of them is greater than the other\n",
    "if MSP_AK > MSP_LA and MSP_AK > LA_AK:\n",
    "    print(statementMSP_AK + \" longest.\")\n",
    "if MSP_LA > MSP_AK and MSP_LA > LA_AK:\n",
    "    print(statementMSP_LA + \" longest.\")\n",
    "if LA_AK > MSP_LA and LA_AK > MSP_AK:\n",
    "    print(statementLA_AK + \" longest.\")\n",
    "\n",
    "print(\"\")\n",
    "\n",
    "#these if statements look for the shortest distance between the three cities\n",
    "if MSP_AK < MSP_LA and MSP_AK < LA_AK:\n",
    "    print(statementMSP_AK + \" shortest.\")\n",
    "if MSP_LA < MSP_AK and MSP_LA < LA_AK:\n",
    "    print(statementMSP_LA + \" shortest.\")\n",
    "if LA_AK < MSP_LA and LA_AK < MSP_AK:\n",
    "    print(statementLA_AK+ \" shortest.\")\n",
    "    "
   ]
  },
  {
   "cell_type": "markdown",
   "metadata": {},
   "source": [
    "## Additional Practice (Not graded for credit)"
   ]
  },
  {
   "cell_type": "code",
   "execution_count": 37,
   "metadata": {
    "scrolled": true
   },
   "outputs": [
    {
     "name": "stdout",
     "output_type": "stream",
     "text": [
      "What is point A? Format it x, y: 8, 9\n",
      "What is point B? Format it x, y: 3, 0\n",
      "\n",
      "10.295630141\n"
     ]
    }
   ],
   "source": [
    "#not what this question meant, but I wanted to see if there was a python module that had a euclidean distance formula\n",
    "a1, a2, b1, b2 = distanceInput()\n",
    "#start point, this formats the ints into one variable instead of two so they can be put in the function\n",
    "a = (a1, a2)\n",
    "b = (b1, b2)\n",
    "from scipy.spatial import distance\n",
    "dst= distance.euclidean(a, b)\n",
    "\n",
    "print (\"\")\n",
    "print (dst)"
   ]
  },
  {
   "cell_type": "markdown",
   "metadata": {},
   "source": [
    "## Write a function for Pythagorean theorem for hypotenuse"
   ]
  },
  {
   "cell_type": "code",
   "execution_count": 56,
   "metadata": {},
   "outputs": [
    {
     "name": "stdout",
     "output_type": "stream",
     "text": [
      "Side A:2\n",
      "Side B:3\n",
      "\n",
      "The length of Side C is 3.605551275463989\n"
     ]
    }
   ],
   "source": [
    "# a**2 + b**2 = c ** 2\n",
    "\n",
    "def pyTher():\n",
    "    a = int(input(\"Side A:\"))\n",
    "    b = int(input (\"Side B:\"))\n",
    "    c = (a**2 + b**2)**.5\n",
    "    return c\n",
    "\n",
    "thirdSide = pyTher()\n",
    "\n",
    "print (\"\")\n",
    "print (\"The length of Side C is\" , thirdSide)\n",
    "    "
   ]
  }
 ],
 "metadata": {
  "anaconda-cloud": {},
  "kernelspec": {
   "display_name": "Python 3",
   "language": "python",
   "name": "python3"
  },
  "language_info": {
   "codemirror_mode": {
    "name": "ipython",
    "version": 3
   },
   "file_extension": ".py",
   "mimetype": "text/x-python",
   "name": "python",
   "nbconvert_exporter": "python",
   "pygments_lexer": "ipython3",
   "version": "3.6.3"
  }
 },
 "nbformat": 4,
 "nbformat_minor": 2
}
